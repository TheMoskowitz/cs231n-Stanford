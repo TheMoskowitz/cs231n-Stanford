{
 "cells": [
  {
   "cell_type": "markdown",
   "metadata": {},
   "source": [
    "# Softmax exercise\n",
    "\n",
    "*Complete and hand in this completed worksheet (including its outputs and any supporting code outside of the worksheet) with your assignment submission. For more details see the [assignments page](http://vision.stanford.edu/teaching/cs231n/assignments.html) on the course website.*\n",
    "\n",
    "This exercise is analogous to the SVM exercise. You will:\n",
    "\n",
    "- implement a fully-vectorized **loss function** for the Softmax classifier\n",
    "- implement the fully-vectorized expression for its **analytic gradient**\n",
    "- **check your implementation** with numerical gradient\n",
    "- use a validation set to **tune the learning rate and regularization** strength\n",
    "- **optimize** the loss function with **SGD**\n",
    "- **visualize** the final learned weights\n"
   ]
  },
  {
   "cell_type": "code",
   "execution_count": 1,
   "metadata": {
    "collapsed": false
   },
   "outputs": [],
   "source": [
    "import random\n",
    "import numpy as np\n",
    "from cs231n.data_utils import load_CIFAR10\n",
    "import matplotlib.pyplot as plt\n",
    "%matplotlib inline\n",
    "plt.rcParams['figure.figsize'] = (10.0, 8.0) # set default size of plots\n",
    "plt.rcParams['image.interpolation'] = 'nearest'\n",
    "plt.rcParams['image.cmap'] = 'gray'\n",
    "\n",
    "# for auto-reloading extenrnal modules\n",
    "# see http://stackoverflow.com/questions/1907993/autoreload-of-modules-in-ipython\n",
    "%load_ext autoreload\n",
    "%autoreload 2"
   ]
  },
  {
   "cell_type": "code",
   "execution_count": 2,
   "metadata": {
    "collapsed": false
   },
   "outputs": [
    {
     "name": "stdout",
     "output_type": "stream",
     "text": [
      "Train data shape:  (49000, 3073)\n",
      "Train labels shape:  (49000,)\n",
      "Validation data shape:  (1000, 3073)\n",
      "Validation labels shape:  (1000,)\n",
      "Test data shape:  (1000, 3073)\n",
      "Test labels shape:  (1000,)\n",
      "dev data shape:  (500, 3073)\n",
      "dev labels shape:  (500,)\n"
     ]
    }
   ],
   "source": [
    "def get_CIFAR10_data(num_training=49000, num_validation=1000, num_test=1000, num_dev=500):\n",
    "  \"\"\"\n",
    "  Load the CIFAR-10 dataset from disk and perform preprocessing to prepare\n",
    "  it for the linear classifier. These are the same steps as we used for the\n",
    "  SVM, but condensed to a single function.  \n",
    "  \"\"\"\n",
    "  # Load the raw CIFAR-10 data\n",
    "  cifar10_dir = 'cs231n/datasets/cifar-10-batches-py'\n",
    "  X_train, y_train, X_test, y_test = load_CIFAR10(cifar10_dir)\n",
    "  \n",
    "  # subsample the data\n",
    "  mask = range(num_training, num_training + num_validation)\n",
    "  X_val = X_train[mask]\n",
    "  y_val = y_train[mask]\n",
    "  mask = range(num_training)\n",
    "  X_train = X_train[mask]\n",
    "  y_train = y_train[mask]\n",
    "  mask = range(num_test)\n",
    "  X_test = X_test[mask]\n",
    "  y_test = y_test[mask]\n",
    "  mask = np.random.choice(num_training, num_dev, replace=False)\n",
    "  X_dev = X_train[mask]\n",
    "  y_dev = y_train[mask]\n",
    "  \n",
    "  # Preprocessing: reshape the image data into rows\n",
    "  X_train = np.reshape(X_train, (X_train.shape[0], -1))\n",
    "  X_val = np.reshape(X_val, (X_val.shape[0], -1))\n",
    "  X_test = np.reshape(X_test, (X_test.shape[0], -1))\n",
    "  X_dev = np.reshape(X_dev, (X_dev.shape[0], -1))\n",
    "  \n",
    "  # Normalize the data: subtract the mean image\n",
    "  mean_image = np.mean(X_train, axis = 0)\n",
    "  X_train -= mean_image\n",
    "  X_val -= mean_image\n",
    "  X_test -= mean_image\n",
    "  X_dev -= mean_image\n",
    "  \n",
    "  # add bias dimension and transform into columns\n",
    "  X_train = np.hstack([X_train, np.ones((X_train.shape[0], 1))])\n",
    "  X_val = np.hstack([X_val, np.ones((X_val.shape[0], 1))])\n",
    "  X_test = np.hstack([X_test, np.ones((X_test.shape[0], 1))])\n",
    "  X_dev = np.hstack([X_dev, np.ones((X_dev.shape[0], 1))])\n",
    "  \n",
    "  return X_train, y_train, X_val, y_val, X_test, y_test, X_dev, y_dev\n",
    "\n",
    "\n",
    "# Invoke the above function to get our data.\n",
    "X_train, y_train, X_val, y_val, X_test, y_test, X_dev, y_dev = get_CIFAR10_data()\n",
    "print 'Train data shape: ', X_train.shape\n",
    "print 'Train labels shape: ', y_train.shape\n",
    "print 'Validation data shape: ', X_val.shape\n",
    "print 'Validation labels shape: ', y_val.shape\n",
    "print 'Test data shape: ', X_test.shape\n",
    "print 'Test labels shape: ', y_test.shape\n",
    "print 'dev data shape: ', X_dev.shape\n",
    "print 'dev labels shape: ', y_dev.shape"
   ]
  },
  {
   "cell_type": "markdown",
   "metadata": {},
   "source": [
    "## Softmax Classifier\n",
    "\n",
    "Your code for this section will all be written inside **cs231n/classifiers/softmax.py**. \n"
   ]
  },
  {
   "cell_type": "code",
   "execution_count": 10,
   "metadata": {
    "collapsed": false
   },
   "outputs": [
    {
     "name": "stdout",
     "output_type": "stream",
     "text": [
      "loss: 2.416453\n",
      "sanity check: 2.302585\n"
     ]
    }
   ],
   "source": [
    "# First implement the naive softmax loss function with nested loops.\n",
    "# Open the file cs231n/classifiers/softmax.py and implement the\n",
    "# softmax_loss_naive function.\n",
    "\n",
    "from cs231n.classifiers.softmax import softmax_loss_naive\n",
    "import time\n",
    "\n",
    "# Generate a random softmax weight matrix and use it to compute the loss.\n",
    "W = np.random.randn(3073, 10) * 0.0001\n",
    "loss, grad = softmax_loss_naive(W, X_dev, y_dev, 0.0)\n",
    "\n",
    "# As a rough sanity check, our loss should be something close to -log(0.1).\n",
    "print 'loss: %f' % loss\n",
    "print 'sanity check: %f' % (-np.log(0.1))"
   ]
  },
  {
   "cell_type": "markdown",
   "metadata": {},
   "source": [
    "## Inline Question 1:\n",
    "Why do we expect our loss to be close to -log(0.1)? Explain briefly.**\n",
    "\n",
    "**Your answer:** *Fill this in*\n"
   ]
  },
  {
   "cell_type": "code",
   "execution_count": 13,
   "metadata": {
    "collapsed": false
   },
   "outputs": [
    {
     "name": "stdout",
     "output_type": "stream",
     "text": [
      "numerical: 0.503972 analytic: 0.503972, relative error: 1.404101e-08\n",
      "numerical: -1.891325 analytic: -1.891324, relative error: 2.849051e-08\n",
      "numerical: 1.914483 analytic: 1.914483, relative error: 4.099599e-08\n",
      "numerical: -0.512272 analytic: -0.512272, relative error: 2.249864e-08\n",
      "numerical: 0.459251 analytic: 0.459251, relative error: 9.991432e-08\n",
      "numerical: -4.441675 analytic: -4.441675, relative error: 5.389718e-09\n",
      "numerical: -1.845083 analytic: -1.845083, relative error: 7.507332e-10\n",
      "numerical: 0.810224 analytic: 0.810224, relative error: 6.127930e-08\n",
      "numerical: 3.097233 analytic: 3.097233, relative error: 5.162140e-09\n",
      "numerical: 1.332074 analytic: 1.332074, relative error: 1.408061e-08\n",
      "numerical: 2.607072 analytic: 2.607072, relative error: 2.909209e-08\n",
      "numerical: -0.504540 analytic: -0.504540, relative error: 1.500870e-08\n",
      "numerical: 0.005120 analytic: 0.005120, relative error: 7.290358e-06\n",
      "numerical: 4.732121 analytic: 4.732121, relative error: 4.505429e-09\n",
      "numerical: -0.696203 analytic: -0.696203, relative error: 1.787518e-09\n",
      "numerical: 0.387379 analytic: 0.387379, relative error: 2.732253e-08\n",
      "numerical: 0.655430 analytic: 0.655430, relative error: 1.402634e-08\n",
      "numerical: 2.491031 analytic: 2.491031, relative error: 3.107869e-09\n",
      "numerical: -1.198506 analytic: -1.198506, relative error: 3.340149e-08\n",
      "numerical: -5.675609 analytic: -5.675608, relative error: 1.373166e-08\n"
     ]
    }
   ],
   "source": [
    "# Complete the implementation of softmax_loss_naive and implement a (naive)\n",
    "# version of the gradient that uses nested loops.\n",
    "loss, grad = softmax_loss_naive(W, X_dev, y_dev, 0.0)\n",
    "\n",
    "# As we did for the SVM, use numeric gradient checking as a debugging tool.\n",
    "# The numeric gradient should be close to the analytic gradient.\n",
    "from cs231n.gradient_check import grad_check_sparse\n",
    "f = lambda w: softmax_loss_naive(w, X_dev, y_dev, 0.0)[0]\n",
    "grad_numerical = grad_check_sparse(f, W, grad, 10)\n",
    "\n",
    "# similar to SVM case, do another gradient check with regularization\n",
    "loss, grad = softmax_loss_naive(W, X_dev, y_dev, 1e2)\n",
    "f = lambda w: softmax_loss_naive(w, X_dev, y_dev, 1e2)[0]\n",
    "grad_numerical = grad_check_sparse(f, W, grad, 10)"
   ]
  },
  {
   "cell_type": "code",
   "execution_count": 16,
   "metadata": {
    "collapsed": false
   },
   "outputs": [
    {
     "name": "stdout",
     "output_type": "stream",
     "text": [
      "naive loss: 2.416453e+00 computed in 0.224800s\n",
      "(3073, 10)\n",
      "(500, 3073)\n",
      "(500, 10)\n",
      "vectorized loss: 2.416453e+00 computed in 0.019968s\n",
      "Loss difference: 0.000000\n",
      "Gradient difference: 0.000000\n"
     ]
    }
   ],
   "source": [
    "# Now that we have a naive implementation of the softmax loss function and its gradient,\n",
    "# implement a vectorized version in softmax_loss_vectorized.\n",
    "# The two versions should compute the same results, but the vectorized version should be\n",
    "# much faster.\n",
    "tic = time.time()\n",
    "loss_naive, grad_naive = softmax_loss_naive(W, X_dev, y_dev, 0.00001)\n",
    "toc = time.time()\n",
    "print 'naive loss: %e computed in %fs' % (loss_naive, toc - tic)\n",
    "\n",
    "from cs231n.classifiers.softmax import softmax_loss_vectorized\n",
    "tic = time.time()\n",
    "loss_vectorized, grad_vectorized = softmax_loss_vectorized(W, X_dev, y_dev, 0.00001)\n",
    "toc = time.time()\n",
    "print 'vectorized loss: %e computed in %fs' % (loss_vectorized, toc - tic)\n",
    "\n",
    "# As we did for the SVM, we use the Frobenius norm to compare the two versions\n",
    "# of the gradient.\n",
    "grad_difference = np.linalg.norm(grad_naive - grad_vectorized, ord='fro')\n",
    "print 'Loss difference: %f' % np.abs(loss_naive - loss_vectorized)\n",
    "print 'Gradient difference: %f' % grad_difference"
   ]
  },
  {
   "cell_type": "code",
   "execution_count": 43,
   "metadata": {
    "collapsed": false
   },
   "outputs": [
    {
     "name": "stdout",
     "output_type": "stream",
     "text": [
      "iteration 0 / 10000: loss 60.333011\n",
      "iteration 100 / 10000: loss 14.868633\n",
      "iteration 200 / 10000: loss 4.995550\n",
      "iteration 300 / 10000: loss 2.635763\n",
      "iteration 400 / 10000: loss 2.066844\n",
      "iteration 500 / 10000: loss 1.896445\n",
      "iteration 600 / 10000: loss 1.911808\n",
      "iteration 700 / 10000: loss 1.779811\n",
      "iteration 800 / 10000: loss 1.980145\n",
      "iteration 900 / 10000: loss 1.866762\n",
      "iteration 1000 / 10000: loss 1.913188\n",
      "iteration 1100 / 10000: loss 1.890879\n",
      "iteration 1200 / 10000: loss 1.918055\n",
      "iteration 1300 / 10000: loss 1.920874\n",
      "iteration 1400 / 10000: loss 1.893450\n",
      "iteration 1500 / 10000: loss 1.931628\n",
      "iteration 1600 / 10000: loss 1.949361\n",
      "iteration 1700 / 10000: loss 1.819172\n",
      "iteration 1800 / 10000: loss 1.864043\n",
      "iteration 1900 / 10000: loss 1.818819\n",
      "iteration 2000 / 10000: loss 1.879675\n",
      "iteration 2100 / 10000: loss 1.819680\n",
      "iteration 2200 / 10000: loss 1.866673\n",
      "iteration 2300 / 10000: loss 2.018851\n",
      "iteration 2400 / 10000: loss 1.917037\n",
      "iteration 2500 / 10000: loss 1.801623\n",
      "iteration 2600 / 10000: loss 1.891931\n",
      "iteration 2700 / 10000: loss 1.817030\n",
      "iteration 2800 / 10000: loss 1.917071\n",
      "iteration 2900 / 10000: loss 1.912536\n",
      "iteration 3000 / 10000: loss 1.829359\n",
      "iteration 3100 / 10000: loss 1.951247\n",
      "iteration 3200 / 10000: loss 1.902500\n",
      "iteration 3300 / 10000: loss 1.876240\n",
      "iteration 3400 / 10000: loss 1.785857\n",
      "iteration 3500 / 10000: loss 1.857071\n",
      "iteration 3600 / 10000: loss 1.974446\n",
      "iteration 3700 / 10000: loss 1.950838\n",
      "iteration 3800 / 10000: loss 1.933953\n",
      "iteration 3900 / 10000: loss 1.910858\n",
      "iteration 4000 / 10000: loss 1.972983\n",
      "iteration 4100 / 10000: loss 1.946923\n",
      "iteration 4200 / 10000: loss 1.956476\n",
      "iteration 4300 / 10000: loss 1.949243\n",
      "iteration 4400 / 10000: loss 1.877362\n",
      "iteration 4500 / 10000: loss 1.979429\n",
      "iteration 4600 / 10000: loss 1.790170\n",
      "iteration 4700 / 10000: loss 1.934769\n",
      "iteration 4800 / 10000: loss 1.998556\n",
      "iteration 4900 / 10000: loss 1.887421\n",
      "iteration 5000 / 10000: loss 1.928150\n",
      "iteration 5100 / 10000: loss 1.916729\n",
      "iteration 5200 / 10000: loss 1.822867\n",
      "iteration 5300 / 10000: loss 1.847722\n",
      "iteration 5400 / 10000: loss 1.871656\n",
      "iteration 5500 / 10000: loss 1.928567\n",
      "iteration 5600 / 10000: loss 1.864972\n",
      "iteration 5700 / 10000: loss 1.910974\n",
      "iteration 5800 / 10000: loss 1.992077\n",
      "iteration 5900 / 10000: loss 1.926856\n",
      "iteration 6000 / 10000: loss 1.822664\n",
      "iteration 6100 / 10000: loss 1.764478\n",
      "iteration 6200 / 10000: loss 1.842416\n",
      "iteration 6300 / 10000: loss 1.980558\n",
      "iteration 6400 / 10000: loss 1.916977\n",
      "iteration 6500 / 10000: loss 1.994050\n",
      "iteration 6600 / 10000: loss 1.897715\n",
      "iteration 6700 / 10000: loss 1.971476\n",
      "iteration 6800 / 10000: loss 1.868545\n",
      "iteration 6900 / 10000: loss 1.855721\n",
      "iteration 7000 / 10000: loss 1.904309\n",
      "iteration 7100 / 10000: loss 1.914487\n",
      "iteration 7200 / 10000: loss 1.908624\n",
      "iteration 7300 / 10000: loss 2.005780\n",
      "iteration 7400 / 10000: loss 1.867527\n",
      "iteration 7500 / 10000: loss 1.854067\n",
      "iteration 7600 / 10000: loss 1.970715\n",
      "iteration 7700 / 10000: loss 1.806106\n",
      "iteration 7800 / 10000: loss 1.929724\n",
      "iteration 7900 / 10000: loss 1.832670\n",
      "iteration 8000 / 10000: loss 1.910762\n",
      "iteration 8100 / 10000: loss 1.892429\n",
      "iteration 8200 / 10000: loss 1.983563\n",
      "iteration 8300 / 10000: loss 1.834069\n",
      "iteration 8400 / 10000: loss 1.921072\n",
      "iteration 8500 / 10000: loss 1.930080\n",
      "iteration 8600 / 10000: loss 1.977994\n",
      "iteration 8700 / 10000: loss 1.882026\n",
      "iteration 8800 / 10000: loss 1.853173\n",
      "iteration 8900 / 10000: loss 1.882120\n",
      "iteration 9000 / 10000: loss 1.805566\n",
      "iteration 9100 / 10000: loss 1.838698\n",
      "iteration 9200 / 10000: loss 1.935895\n",
      "iteration 9300 / 10000: loss 1.838963\n",
      "iteration 9400 / 10000: loss 1.821716\n",
      "iteration 9500 / 10000: loss 1.951677\n",
      "iteration 9600 / 10000: loss 1.934187\n",
      "iteration 9700 / 10000: loss 1.829190\n",
      "iteration 9800 / 10000: loss 1.786430\n",
      "iteration 9900 / 10000: loss 1.705961\n",
      "lr 2.000000e-06 reg 3.520000e+03 train accuracy: 0.370837 val accuracy: 0.373000\n",
      "best validation accuracy achieved during cross-validation: 0.373000\n"
     ]
    }
   ],
   "source": [
    "# Use the validation set to tune hyperparameters (regularization strength and\n",
    "# learning rate). You should experiment with different ranges for the learning\n",
    "# rates and regularization strengths; if you are careful you should be able to\n",
    "# get a classification accuracy of over 0.35 on the validation set.\n",
    "from cs231n.classifiers import Softmax\n",
    "results = {}\n",
    "best_val = -1\n",
    "best_softmax = None\n",
    "# learning_rates = np.linspace(1e-6, 5e-6, 5)\n",
    "# regularization_strengths = np.linspace(700, 12000, 5)\n",
    "learning_rates = [2e-6]\n",
    "regularization_strengths = [3.52e3]\n",
    "################################################################################\n",
    "# TODO:                                                                        #\n",
    "# Use the validation set to set the learning rate and regularization strength. #\n",
    "# This should be identical to the validation that you did for the SVM; save    #\n",
    "# the best trained softmax classifer in best_softmax.                          #\n",
    "################################################################################\n",
    "\n",
    "for rate in learning_rates:\n",
    "    for reg in regularization_strengths:\n",
    "        softmax = Softmax()\n",
    "        softmax.train(X_train, y_train, learning_rate=rate, reg=reg,\n",
    "                      num_iters=10000, verbose=True)\n",
    "        train_accuracy = np.mean(softmax.predict(X_train) == y_train)\n",
    "        val_accuracy = np.mean(softmax.predict(X_val) == y_val)\n",
    "        if (val_accuracy > best_val):\n",
    "            best_val = val_accuracy\n",
    "            best_softmax = softmax\n",
    "\n",
    "        results[(rate, reg)] = (train_accuracy, val_accuracy)\n",
    "\n",
    "################################################################################\n",
    "#                              END OF YOUR CODE                                #\n",
    "################################################################################\n",
    "    \n",
    "# Print out results.\n",
    "for lr, reg in sorted(results):\n",
    "    train_accuracy, val_accuracy = results[(lr, reg)]\n",
    "    print 'lr %e reg %e train accuracy: %f val accuracy: %f' % (\n",
    "                lr, reg, train_accuracy, val_accuracy)\n",
    "    \n",
    "print 'best validation accuracy achieved during cross-validation: %f' % best_val"
   ]
  },
  {
   "cell_type": "code",
   "execution_count": 41,
   "metadata": {
    "collapsed": false
   },
   "outputs": [
    {
     "data": {
      "image/png": "[encoded data removed]",
      "text/plain": [
       "<matplotlib.figure.Figure at 0x119561b50>"
      ]
     },
     "metadata": {},
     "output_type": "display_data"
    }
   ],
   "source": [
    "# Visualize the cross-validation results\n",
    "import math\n",
    "x_scatter = [math.log10(x[0]) for x in results]\n",
    "y_scatter = [math.log10(x[1]) for x in results]\n",
    "\n",
    "# # plot training accuracy\n",
    "# marker_size = 100\n",
    "# colors = [results[x][0] for x in results]\n",
    "# plt.subplot(2, 1, 1)\n",
    "# plt.scatter(x_scatter, y_scatter, marker_size, c=colors)\n",
    "# plt.colorbar()\n",
    "# plt.xlabel('log learning rate')\n",
    "# plt.ylabel('log regularization strength')\n",
    "# plt.title('CIFAR-10 training accuracy')\n",
    "\n",
    "# plot validation accuracy\n",
    "colors = [results[x][1] for x in results] # default size of markers is 20\n",
    "plt.subplot(2, 1, 2)\n",
    "plt.scatter(x_scatter, y_scatter, marker_size, c=colors)\n",
    "plt.colorbar()\n",
    "plt.xlabel('log learning rate')\n",
    "plt.ylabel('log regularization strength')\n",
    "plt.title('CIFAR-10 validation accuracy')\n",
    "plt.show()"
   ]
  },
  {
   "cell_type": "code",
   "execution_count": 44,
   "metadata": {
    "collapsed": false
   },
   "outputs": [
    {
     "name": "stdout",
     "output_type": "stream",
     "text": [
      "softmax on raw pixels final test set accuracy: 0.364000\n"
     ]
    }
   ],
   "source": [
    "# evaluate on test set\n",
    "# Evaluate the best softmax on test set\n",
    "y_test_pred = best_softmax.predict(X_test)\n",
    "test_accuracy = np.mean(y_test == y_test_pred)\n",
    "print 'softmax on raw pixels final test set accuracy: %f' % (test_accuracy, )"
   ]
  },
  {
   "cell_type": "code",
   "execution_count": 19,
   "metadata": {
    "collapsed": false
   },
   "outputs": [
    {
     "data": {
      "image/png": "[encoded data removed]",
      "text/plain": [
       "<matplotlib.figure.Figure at 0x11009d090>"
      ]
     },
     "metadata": {},
     "output_type": "display_data"
    }
   ],
   "source": [
    "# Visualize the learned weights for each class\n",
    "w = best_softmax.W[:-1,:] # strip out the bias\n",
    "w = w.reshape(32, 32, 3, 10)\n",
    "\n",
    "w_min, w_max = np.min(w), np.max(w)\n",
    "\n",
    "classes = ['plane', 'car', 'bird', 'cat', 'deer', 'dog', 'frog', 'horse', 'ship', 'truck']\n",
    "for i in xrange(10):\n",
    "  plt.subplot(2, 5, i + 1)\n",
    "  \n",
    "  # Rescale the weights to be between 0 and 255\n",
    "  wimg = 255.0 * (w[:, :, :, i].squeeze() - w_min) / (w_max - w_min)\n",
    "  plt.imshow(wimg.astype('uint8'))\n",
    "  plt.axis('off')\n",
    "  plt.title(classes[i])"
   ]
  },
  {
   "cell_type": "code",
   "execution_count": null,
   "metadata": {
    "collapsed": true
   },
   "outputs": [],
   "source": []
  }
 ],
 "metadata": {
  "kernelspec": {
   "display_name": "Python 2",
   "language": "python",
   "name": "python2"
  },
  "language_info": {
   "codemirror_mode": {
    "name": "ipython",
    "version": 2
   },
   "file_extension": ".py",
   "mimetype": "text/x-python",
   "name": "python",
   "nbconvert_exporter": "python",
   "pygments_lexer": "ipython2",
   "version": "2.7.12"
  }
 },
 "nbformat": 4,
 "nbformat_minor": 0
}
